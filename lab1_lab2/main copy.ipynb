{
 "cells": [
  {
   "cell_type": "code",
   "execution_count": 70,
   "metadata": {},
   "outputs": [],
   "source": [
    "from selenium import webdriver\n",
    "from selenium.webdriver.common.by import By\n",
    "import time\n",
    "from random import random\n",
    "import os"
   ]
  },
  {
   "cell_type": "code",
   "execution_count": 60,
   "metadata": {},
   "outputs": [],
   "source": [
    "output_dir = \"output\""
   ]
  },
  {
   "cell_type": "code",
   "execution_count": 119,
   "metadata": {},
   "outputs": [],
   "source": [
    "class W3Schools:\n",
    "    def __init__(self, from_page, to_page, delay = 1, delayrandomization = 0.1):\n",
    "        self.driver = webdriver.Firefox()\n",
    "        self.from_page = from_page\n",
    "        self.to_page = to_page\n",
    "        self.delay = delay\n",
    "        self.randomization = delayrandomization\n",
    "        print(\"Славься Исааков!!!!\")\n",
    "        #os.mkdir(output_dir)\n",
    "        assert abs(delayrandomization) < delay\n",
    "\n",
    "    def get_page(self, url):\n",
    "        #if self.delay > 0:\n",
    "        #    time.sleep(delay := self.delay + 2*(random() - 0.5)*self.randomization)\n",
    "        #    print(f\"время на отдышатся - {delay} сек\")\n",
    "        self.driver.get(url)\n",
    "\n",
    "    def get_pages(self):\n",
    "        self.get_page(\"https://www.w3schools.com/python\")\n",
    "        print(\"Начинаем молитву\")\n",
    "        leftmenu = self.driver.find_element(By.ID, \"leftmenuinnerinner\")\n",
    "        Q = leftmenu.text.split(\"\\n\")\n",
    "        flag = False\n",
    "        output = dict()\n",
    "        double_check = []\n",
    "        for q in Q: \n",
    "            if q == self.from_page:\n",
    "                flag = True\n",
    "            elif q == self.to_page:\n",
    "                flag = False\n",
    "                print(\"домолились до\", q, \"(не включительно)\")\n",
    "                break\n",
    "            \n",
    "            if flag:\n",
    "                element = leftmenu.find_element(By.LINK_TEXT, q)\n",
    "                check = element.get_attribute(\"class\") == \"overview_header\"\n",
    "                link = element.get_attribute(\"href\")\n",
    "                if check:\n",
    "                    print(\"найдены потенциальные последователи у\", q)\n",
    "                    double_check.append((q, link))\n",
    "                else:\n",
    "                    output[q] = link\n",
    "                    print(\"во славу -\", q, f\"({output[q]})!\")\n",
    "            else:\n",
    "                print((\"мы жертвуем\", \"мы воздерживаеся от\")[random() > 0.5], q, \"ради тебя!\")\n",
    "\n",
    "        for n, current in enumerate(double_check):\n",
    "            name, current_link = current\n",
    "            self.get_page(current_link)\n",
    "            print(\"начинаем вербовать друзей у\", name)\n",
    "            leftmenu = self.driver.find_element(By.ID, \"leftmenuinnerinner\")\n",
    "            G = self.driver.find_element(\n",
    "                By.XPATH, f\"/html/body/div[4]/div/div/div[{n+1}]\").text.split(\"\\n\")\n",
    "            for g in G:\n",
    "                element = self.driver.find_element(By.LINK_TEXT, g)\n",
    "                link = element.get_attribute(\"href\")\n",
    "                output[g] = link\n",
    "                print(\"вербуем сабпараграф -\", g, f\"({output[g]})!\")\n",
    "        return output\n",
    "\n",
    "    def get_examples_from_current_page(self):\n",
    "        output = self.driver.find_elements(By.CLASS_NAME, \"w3-example\")\n",
    "        return [out.find_element(By.CLASS_NAME, \"w3-code\").text for out in output]\n",
    "    \n",
    "    def get_all_examples(self):\n",
    "        pages = self.get_pages()\n",
    "        for page in pages:\n",
    "            print(\"покорно переписываем примеры из\", page)\n",
    "            self.get_page(pages[page])\n",
    "            pages[page] = self.get_examples_from_current_page()\n",
    "        return pages\n",
    "    \n",
    "    def run(self):\n",
    "        self.get_page(\"https://www.w3schools.com/python\")\n",
    "        self.driver.find_element(By.ID, \"leftmenuinnerinner\").find_element(By.LINK_TEXT, self.from_page).click()\n",
    "        examples = []\n",
    "        while cn := self.driver.current_url != self.to_page:\n",
    "            examples.append(self.get_examples_from_current_page())\n",
    "            self.get_page(self.driver.find_element(By.LINK_TEXT, \"Next ❯\").get_attribute(\"href\"))\n",
    "        return examples\n",
    "        \n",
    "    def close(self):\n",
    "        for c in \"Аминь. Славься Исааков.\":\n",
    "            if c == ' ':\n",
    "                time.sleep(1)\n",
    "            time.sleep(0.1)\n",
    "            print(c, end = \"\")\n",
    "        self.driver.close()\n",
    "\n",
    "def write_page(name, output_dir, examples, IGNORE=None):\n",
    "    with open(output_dir + \"/\" + name, \"w\") as f:\n",
    "        for n, example in enumerate(examples):\n",
    "            if IGNORE is None or example not in IGNORE:\n",
    "                f.write(f\"# example {n + 1}\\n\")\n",
    "                f.write(example)\n",
    "                if n != len(examples) - 1:\n",
    "                    f.write(\"\\n\"*2)\n",
    "            if not IGNORE is None:\n",
    "                IGNORE.add(example)"
   ]
  },
  {
   "cell_type": "code",
   "execution_count": 120,
   "metadata": {},
   "outputs": [
    {
     "name": "stdout",
     "output_type": "stream",
     "text": [
      "Славься Исааков!!!!\n",
      "время на отдышатся - 0.9761948814053651 сек\n",
      "время на отдышатся - 0.9287344276661286 сек\n",
      "время на отдышатся - 1.060867217529978 сек\n"
     ]
    },
    {
     "ename": "NoSuchElementException",
     "evalue": "Message: Unable to locate element: .w3-code; For documentation on this error, please visit: https://www.selenium.dev/documentation/webdriver/troubleshooting/errors#no-such-element-exception\nStacktrace:\nRemoteError@chrome://remote/content/shared/RemoteError.sys.mjs:8:8\nWebDriverError@chrome://remote/content/shared/webdriver/Errors.sys.mjs:193:5\nNoSuchElementError@chrome://remote/content/shared/webdriver/Errors.sys.mjs:511:5\ndom.find/</<@chrome://remote/content/shared/DOM.sys.mjs:136:16\n",
     "output_type": "error",
     "traceback": [
      "\u001b[1;31m---------------------------------------------------------------------------\u001b[0m",
      "\u001b[1;31mNoSuchElementException\u001b[0m                    Traceback (most recent call last)",
      "Cell \u001b[1;32mIn[120], line 2\u001b[0m\n\u001b[0;32m      1\u001b[0m A \u001b[38;5;241m=\u001b[39m W3Schools(\u001b[38;5;124m\"\u001b[39m\u001b[38;5;124mPython HOME\u001b[39m\u001b[38;5;124m\"\u001b[39m, \u001b[38;5;124m\"\u001b[39m\u001b[38;5;124mPython Booleans\u001b[39m\u001b[38;5;124m\"\u001b[39m)\n\u001b[1;32m----> 2\u001b[0m output \u001b[38;5;241m=\u001b[39m \u001b[43mA\u001b[49m\u001b[38;5;241;43m.\u001b[39;49m\u001b[43mrun\u001b[49m\u001b[43m(\u001b[49m\u001b[43m)\u001b[49m\n\u001b[0;32m      3\u001b[0m A\u001b[38;5;241m.\u001b[39mclose()\n",
      "Cell \u001b[1;32mIn[119], line 78\u001b[0m, in \u001b[0;36mW3Schools.run\u001b[1;34m(self)\u001b[0m\n\u001b[0;32m     76\u001b[0m examples \u001b[38;5;241m=\u001b[39m []\n\u001b[0;32m     77\u001b[0m \u001b[38;5;28;01mwhile\u001b[39;00m cn \u001b[38;5;241m:=\u001b[39m \u001b[38;5;28mself\u001b[39m\u001b[38;5;241m.\u001b[39mdriver\u001b[38;5;241m.\u001b[39mcurrent_url \u001b[38;5;241m!=\u001b[39m \u001b[38;5;28mself\u001b[39m\u001b[38;5;241m.\u001b[39mto_page:\n\u001b[1;32m---> 78\u001b[0m     examples\u001b[38;5;241m.\u001b[39mappend(\u001b[38;5;28;43mself\u001b[39;49m\u001b[38;5;241;43m.\u001b[39;49m\u001b[43mget_examples_from_current_page\u001b[49m\u001b[43m(\u001b[49m\u001b[43m)\u001b[49m)\n\u001b[0;32m     79\u001b[0m     \u001b[38;5;28mself\u001b[39m\u001b[38;5;241m.\u001b[39mget_page(\u001b[38;5;28mself\u001b[39m\u001b[38;5;241m.\u001b[39mdriver\u001b[38;5;241m.\u001b[39mfind_element(By\u001b[38;5;241m.\u001b[39mLINK_TEXT, \u001b[38;5;124m\"\u001b[39m\u001b[38;5;124mNext ❯\u001b[39m\u001b[38;5;124m\"\u001b[39m)\u001b[38;5;241m.\u001b[39mget_attribute(\u001b[38;5;124m\"\u001b[39m\u001b[38;5;124mhref\u001b[39m\u001b[38;5;124m\"\u001b[39m))\n\u001b[0;32m     80\u001b[0m \u001b[38;5;28;01mreturn\u001b[39;00m examples\n",
      "Cell \u001b[1;32mIn[119], line 63\u001b[0m, in \u001b[0;36mW3Schools.get_examples_from_current_page\u001b[1;34m(self)\u001b[0m\n\u001b[0;32m     61\u001b[0m \u001b[38;5;28;01mdef\u001b[39;00m\u001b[38;5;250m \u001b[39m\u001b[38;5;21mget_examples_from_current_page\u001b[39m(\u001b[38;5;28mself\u001b[39m):\n\u001b[0;32m     62\u001b[0m     output \u001b[38;5;241m=\u001b[39m \u001b[38;5;28mself\u001b[39m\u001b[38;5;241m.\u001b[39mdriver\u001b[38;5;241m.\u001b[39mfind_elements(By\u001b[38;5;241m.\u001b[39mCLASS_NAME, \u001b[38;5;124m\"\u001b[39m\u001b[38;5;124mw3-example\u001b[39m\u001b[38;5;124m\"\u001b[39m)\n\u001b[1;32m---> 63\u001b[0m     \u001b[38;5;28;01mreturn\u001b[39;00m \u001b[43m[\u001b[49m\u001b[43mout\u001b[49m\u001b[38;5;241;43m.\u001b[39;49m\u001b[43mfind_element\u001b[49m\u001b[43m(\u001b[49m\u001b[43mBy\u001b[49m\u001b[38;5;241;43m.\u001b[39;49m\u001b[43mCLASS_NAME\u001b[49m\u001b[43m,\u001b[49m\u001b[43m \u001b[49m\u001b[38;5;124;43m\"\u001b[39;49m\u001b[38;5;124;43mw3-code\u001b[39;49m\u001b[38;5;124;43m\"\u001b[39;49m\u001b[43m)\u001b[49m\u001b[38;5;241;43m.\u001b[39;49m\u001b[43mtext\u001b[49m\u001b[43m \u001b[49m\u001b[38;5;28;43;01mfor\u001b[39;49;00m\u001b[43m \u001b[49m\u001b[43mout\u001b[49m\u001b[43m \u001b[49m\u001b[38;5;129;43;01min\u001b[39;49;00m\u001b[43m \u001b[49m\u001b[43moutput\u001b[49m\u001b[43m]\u001b[49m\n",
      "Cell \u001b[1;32mIn[119], line 63\u001b[0m, in \u001b[0;36m<listcomp>\u001b[1;34m(.0)\u001b[0m\n\u001b[0;32m     61\u001b[0m \u001b[38;5;28;01mdef\u001b[39;00m\u001b[38;5;250m \u001b[39m\u001b[38;5;21mget_examples_from_current_page\u001b[39m(\u001b[38;5;28mself\u001b[39m):\n\u001b[0;32m     62\u001b[0m     output \u001b[38;5;241m=\u001b[39m \u001b[38;5;28mself\u001b[39m\u001b[38;5;241m.\u001b[39mdriver\u001b[38;5;241m.\u001b[39mfind_elements(By\u001b[38;5;241m.\u001b[39mCLASS_NAME, \u001b[38;5;124m\"\u001b[39m\u001b[38;5;124mw3-example\u001b[39m\u001b[38;5;124m\"\u001b[39m)\n\u001b[1;32m---> 63\u001b[0m     \u001b[38;5;28;01mreturn\u001b[39;00m [\u001b[43mout\u001b[49m\u001b[38;5;241;43m.\u001b[39;49m\u001b[43mfind_element\u001b[49m\u001b[43m(\u001b[49m\u001b[43mBy\u001b[49m\u001b[38;5;241;43m.\u001b[39;49m\u001b[43mCLASS_NAME\u001b[49m\u001b[43m,\u001b[49m\u001b[43m \u001b[49m\u001b[38;5;124;43m\"\u001b[39;49m\u001b[38;5;124;43mw3-code\u001b[39;49m\u001b[38;5;124;43m\"\u001b[39;49m\u001b[43m)\u001b[49m\u001b[38;5;241m.\u001b[39mtext \u001b[38;5;28;01mfor\u001b[39;00m out \u001b[38;5;129;01min\u001b[39;00m output]\n",
      "File \u001b[1;32mc:\\Users\\Squmon\\Desktop\\del_this\\.venv\\Lib\\site-packages\\selenium\\webdriver\\remote\\webelement.py:408\u001b[0m, in \u001b[0;36mWebElement.find_element\u001b[1;34m(self, by, value)\u001b[0m\n\u001b[0;32m    398\u001b[0m \u001b[38;5;250m\u001b[39m\u001b[38;5;124;03m\"\"\"Find an element given a By strategy and locator.\u001b[39;00m\n\u001b[0;32m    399\u001b[0m \n\u001b[0;32m    400\u001b[0m \u001b[38;5;124;03m:Usage:\u001b[39;00m\n\u001b[1;32m   (...)\u001b[0m\n\u001b[0;32m    405\u001b[0m \u001b[38;5;124;03m:rtype: WebElement\u001b[39;00m\n\u001b[0;32m    406\u001b[0m \u001b[38;5;124;03m\"\"\"\u001b[39;00m\n\u001b[0;32m    407\u001b[0m by, value \u001b[38;5;241m=\u001b[39m \u001b[38;5;28mself\u001b[39m\u001b[38;5;241m.\u001b[39m_parent\u001b[38;5;241m.\u001b[39mlocator_converter\u001b[38;5;241m.\u001b[39mconvert(by, value)\n\u001b[1;32m--> 408\u001b[0m \u001b[38;5;28;01mreturn\u001b[39;00m \u001b[38;5;28;43mself\u001b[39;49m\u001b[38;5;241;43m.\u001b[39;49m\u001b[43m_execute\u001b[49m\u001b[43m(\u001b[49m\u001b[43mCommand\u001b[49m\u001b[38;5;241;43m.\u001b[39;49m\u001b[43mFIND_CHILD_ELEMENT\u001b[49m\u001b[43m,\u001b[49m\u001b[43m \u001b[49m\u001b[43m{\u001b[49m\u001b[38;5;124;43m\"\u001b[39;49m\u001b[38;5;124;43musing\u001b[39;49m\u001b[38;5;124;43m\"\u001b[39;49m\u001b[43m:\u001b[49m\u001b[43m \u001b[49m\u001b[43mby\u001b[49m\u001b[43m,\u001b[49m\u001b[43m \u001b[49m\u001b[38;5;124;43m\"\u001b[39;49m\u001b[38;5;124;43mvalue\u001b[39;49m\u001b[38;5;124;43m\"\u001b[39;49m\u001b[43m:\u001b[49m\u001b[43m \u001b[49m\u001b[43mvalue\u001b[49m\u001b[43m}\u001b[49m\u001b[43m)\u001b[49m[\u001b[38;5;124m\"\u001b[39m\u001b[38;5;124mvalue\u001b[39m\u001b[38;5;124m\"\u001b[39m]\n",
      "File \u001b[1;32mc:\\Users\\Squmon\\Desktop\\del_this\\.venv\\Lib\\site-packages\\selenium\\webdriver\\remote\\webelement.py:395\u001b[0m, in \u001b[0;36mWebElement._execute\u001b[1;34m(self, command, params)\u001b[0m\n\u001b[0;32m    393\u001b[0m     params \u001b[38;5;241m=\u001b[39m {}\n\u001b[0;32m    394\u001b[0m params[\u001b[38;5;124m\"\u001b[39m\u001b[38;5;124mid\u001b[39m\u001b[38;5;124m\"\u001b[39m] \u001b[38;5;241m=\u001b[39m \u001b[38;5;28mself\u001b[39m\u001b[38;5;241m.\u001b[39m_id\n\u001b[1;32m--> 395\u001b[0m \u001b[38;5;28;01mreturn\u001b[39;00m \u001b[38;5;28;43mself\u001b[39;49m\u001b[38;5;241;43m.\u001b[39;49m\u001b[43m_parent\u001b[49m\u001b[38;5;241;43m.\u001b[39;49m\u001b[43mexecute\u001b[49m\u001b[43m(\u001b[49m\u001b[43mcommand\u001b[49m\u001b[43m,\u001b[49m\u001b[43m \u001b[49m\u001b[43mparams\u001b[49m\u001b[43m)\u001b[49m\n",
      "File \u001b[1;32mc:\\Users\\Squmon\\Desktop\\del_this\\.venv\\Lib\\site-packages\\selenium\\webdriver\\remote\\webdriver.py:384\u001b[0m, in \u001b[0;36mWebDriver.execute\u001b[1;34m(self, driver_command, params)\u001b[0m\n\u001b[0;32m    382\u001b[0m response \u001b[38;5;241m=\u001b[39m \u001b[38;5;28mself\u001b[39m\u001b[38;5;241m.\u001b[39mcommand_executor\u001b[38;5;241m.\u001b[39mexecute(driver_command, params)\n\u001b[0;32m    383\u001b[0m \u001b[38;5;28;01mif\u001b[39;00m response:\n\u001b[1;32m--> 384\u001b[0m     \u001b[38;5;28;43mself\u001b[39;49m\u001b[38;5;241;43m.\u001b[39;49m\u001b[43merror_handler\u001b[49m\u001b[38;5;241;43m.\u001b[39;49m\u001b[43mcheck_response\u001b[49m\u001b[43m(\u001b[49m\u001b[43mresponse\u001b[49m\u001b[43m)\u001b[49m\n\u001b[0;32m    385\u001b[0m     response[\u001b[38;5;124m\"\u001b[39m\u001b[38;5;124mvalue\u001b[39m\u001b[38;5;124m\"\u001b[39m] \u001b[38;5;241m=\u001b[39m \u001b[38;5;28mself\u001b[39m\u001b[38;5;241m.\u001b[39m_unwrap_value(response\u001b[38;5;241m.\u001b[39mget(\u001b[38;5;124m\"\u001b[39m\u001b[38;5;124mvalue\u001b[39m\u001b[38;5;124m\"\u001b[39m, \u001b[38;5;28;01mNone\u001b[39;00m))\n\u001b[0;32m    386\u001b[0m     \u001b[38;5;28;01mreturn\u001b[39;00m response\n",
      "File \u001b[1;32mc:\\Users\\Squmon\\Desktop\\del_this\\.venv\\Lib\\site-packages\\selenium\\webdriver\\remote\\errorhandler.py:232\u001b[0m, in \u001b[0;36mErrorHandler.check_response\u001b[1;34m(self, response)\u001b[0m\n\u001b[0;32m    230\u001b[0m         alert_text \u001b[38;5;241m=\u001b[39m value[\u001b[38;5;124m\"\u001b[39m\u001b[38;5;124malert\u001b[39m\u001b[38;5;124m\"\u001b[39m]\u001b[38;5;241m.\u001b[39mget(\u001b[38;5;124m\"\u001b[39m\u001b[38;5;124mtext\u001b[39m\u001b[38;5;124m\"\u001b[39m)\n\u001b[0;32m    231\u001b[0m     \u001b[38;5;28;01mraise\u001b[39;00m exception_class(message, screen, stacktrace, alert_text)  \u001b[38;5;66;03m# type: ignore[call-arg]  # mypy is not smart enough here\u001b[39;00m\n\u001b[1;32m--> 232\u001b[0m \u001b[38;5;28;01mraise\u001b[39;00m exception_class(message, screen, stacktrace)\n",
      "\u001b[1;31mNoSuchElementException\u001b[0m: Message: Unable to locate element: .w3-code; For documentation on this error, please visit: https://www.selenium.dev/documentation/webdriver/troubleshooting/errors#no-such-element-exception\nStacktrace:\nRemoteError@chrome://remote/content/shared/RemoteError.sys.mjs:8:8\nWebDriverError@chrome://remote/content/shared/webdriver/Errors.sys.mjs:193:5\nNoSuchElementError@chrome://remote/content/shared/webdriver/Errors.sys.mjs:511:5\ndom.find/</<@chrome://remote/content/shared/DOM.sys.mjs:136:16\n"
     ]
    }
   ],
   "source": [
    "A = W3Schools(\"Python HOME\", \"Python Booleans\")\n",
    "output = A.run()\n",
    "A.close()"
   ]
  },
  {
   "cell_type": "code",
   "execution_count": 111,
   "metadata": {},
   "outputs": [
    {
     "data": {
      "text/plain": [
       "{'Python HOME': 'http://www.w3schools.com/python/default.asp',\n",
       " 'Python Intro': 'http://www.w3schools.com/python/python_intro.asp',\n",
       " 'Python Get Started': 'http://www.w3schools.com/python/python_getstarted.asp',\n",
       " 'Python Syntax': 'http://www.w3schools.com/python/python_syntax.asp',\n",
       " 'Python Comments': 'http://www.w3schools.com/python/python_comments.asp',\n",
       " 'Python Data Types': 'http://www.w3schools.com/python/python_datatypes.asp',\n",
       " 'Python Numbers': 'http://www.w3schools.com/python/python_numbers.asp',\n",
       " 'Python Casting': 'http://www.w3schools.com/python/python_casting.asp',\n",
       " 'Python Variables': 'http://www.w3schools.com/python/python_variables.asp',\n",
       " 'Variable Names': 'http://www.w3schools.com/python/python_variables_names.asp',\n",
       " 'Assign Multiple Values': 'http://www.w3schools.com/python/python_variables_multiple.asp',\n",
       " 'Output Variables': 'http://www.w3schools.com/python/python_variables_output.asp',\n",
       " 'Global Variables': 'http://www.w3schools.com/python/python_variables_global.asp',\n",
       " 'Variable Exercises': 'http://www.w3schools.com/python/python_variables_exercises.asp',\n",
       " 'Python Strings': 'http://www.w3schools.com/python/python_strings.asp',\n",
       " 'Slicing Strings': 'http://www.w3schools.com/python/python_strings_slicing.asp',\n",
       " 'Modify Strings': 'http://www.w3schools.com/python/python_strings_modify.asp',\n",
       " 'Concatenate Strings': 'http://www.w3schools.com/python/python_strings_concatenate.asp',\n",
       " 'Format Strings': 'http://www.w3schools.com/python/python_strings_format.asp',\n",
       " 'Escape Characters': 'http://www.w3schools.com/python/python_strings_escape.asp',\n",
       " 'String Methods': 'http://www.w3schools.com/python/python_strings_methods.asp',\n",
       " 'String Exercises': 'http://www.w3schools.com/python/python_strings_exercises.asp'}"
      ]
     },
     "execution_count": 111,
     "metadata": {},
     "output_type": "execute_result"
    }
   ],
   "source": [
    "output"
   ]
  },
  {
   "cell_type": "code",
   "execution_count": null,
   "metadata": {},
   "outputs": [],
   "source": [
    "'''\n",
    "driver = webdriver.Firefox()\n",
    "\n",
    "driver.get(\"https://www.w3schools.com/python/python_variables_output.asp\")\n",
    "\n",
    "output = driver.find_elements(By.CLASS_NAME, \"w3-example\")\n",
    "\n",
    "examples = [out.find_element(By.CLASS_NAME, \"pythoncolor\").text for out in output]\n",
    "driver.close()\n",
    "'''"
   ]
  },
  {
   "cell_type": "code",
   "execution_count": null,
   "metadata": {},
   "outputs": [],
   "source": [
    "\n",
    "driver = webdriver.Firefox()\n",
    "\n",
    "driver.get(\"https://www.w3schools.com/python/python_variables_output.asp\")\n",
    "\n",
    "output = driver.find_element(By.ID, \"leftmenuinnerinner\")\n",
    "\n",
    "output = output.text.split(\"\\n\")\n",
    "driver.close()"
   ]
  },
  {
   "cell_type": "code",
   "execution_count": null,
   "metadata": {},
   "outputs": [],
   "source": []
  },
  {
   "cell_type": "code",
   "execution_count": 31,
   "metadata": {},
   "outputs": [],
   "source": []
  },
  {
   "cell_type": "code",
   "execution_count": 32,
   "metadata": {},
   "outputs": [],
   "source": [
    "write_page(\"del_this.py\", output_dir)"
   ]
  },
  {
   "cell_type": "code",
   "execution_count": 42,
   "metadata": {},
   "outputs": [],
   "source": []
  }
 ],
 "metadata": {
  "kernelspec": {
   "display_name": ".venv",
   "language": "python",
   "name": "python3"
  },
  "language_info": {
   "codemirror_mode": {
    "name": "ipython",
    "version": 3
   },
   "file_extension": ".py",
   "mimetype": "text/x-python",
   "name": "python",
   "nbconvert_exporter": "python",
   "pygments_lexer": "ipython3",
   "version": "3.11.5"
  }
 },
 "nbformat": 4,
 "nbformat_minor": 2
}
