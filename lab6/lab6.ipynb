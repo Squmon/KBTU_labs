{
 "cells": [
  {
   "cell_type": "markdown",
   "metadata": {},
   "source": [
    "# builtin functions"
   ]
  },
  {
   "cell_type": "code",
   "execution_count": 1,
   "metadata": {},
   "outputs": [
    {
     "name": "stdout",
     "output_type": "stream",
     "text": [
      "720\n"
     ]
    }
   ],
   "source": [
    "from functools import reduce\n",
    "\n",
    "a = [1, 2, 3, 4, 5, 6]\n",
    "print(reduce(lambda a, b:a*b, a))"
   ]
  },
  {
   "cell_type": "code",
   "execution_count": 2,
   "metadata": {},
   "outputs": [
    {
     "name": "stdout",
     "output_type": "stream",
     "text": [
      "2\n"
     ]
    }
   ],
   "source": [
    "string = \"Hello World!\"\n",
    "print(sum(map(lambda x: ord(\"A\")<=ord(x)<=ord(\"Z\"), string)))"
   ]
  },
  {
   "cell_type": "code",
   "execution_count": 3,
   "metadata": {},
   "outputs": [
    {
     "name": "stdout",
     "output_type": "stream",
     "text": [
      "string is polydrome\n"
     ]
    }
   ],
   "source": [
    "string = \"hah\"\n",
    "print(\"string is polydrome\" if all(map(lambda a: a[0] == a[1], zip(string, reversed(string)))) else \"string is not a polyndrome\")"
   ]
  },
  {
   "cell_type": "code",
   "execution_count": 4,
   "metadata": {},
   "outputs": [
    {
     "name": "stdout",
     "output_type": "stream",
     "text": [
      "Square root of (-1+0j) after 0.06329989992082119 miliseconds is (6.123233995736766e-17+1j)\n"
     ]
    }
   ],
   "source": [
    "import time\n",
    "\n",
    "number = complex(input())\n",
    "start = time.perf_counter()\n",
    "result = pow(number, 0.5)\n",
    "end = time.perf_counter()\n",
    "print(f\"Square root of {number} after {(end - start)*1000} miliseconds is {result}\")"
   ]
  },
  {
   "cell_type": "code",
   "execution_count": 5,
   "metadata": {},
   "outputs": [
    {
     "name": "stdout",
     "output_type": "stream",
     "text": [
      "True\n",
      "False\n"
     ]
    }
   ],
   "source": [
    "A = [True, True, True]\n",
    "B = [True, True, False]\n",
    "print(all(A))\n",
    "print(all(B))"
   ]
  },
  {
   "cell_type": "markdown",
   "metadata": {},
   "source": [
    "# Directories and Files"
   ]
  },
  {
   "cell_type": "code",
   "execution_count": 6,
   "metadata": {},
   "outputs": [
    {
     "name": "stdout",
     "output_type": "stream",
     "text": [
      "['date', 'generators', 'json', 'math']\n"
     ]
    }
   ],
   "source": [
    "import os\n",
    "p = os.path.join(\"../lab4\")\n",
    "print(os.listdir(p))"
   ]
  },
  {
   "cell_type": "code",
   "execution_count": 7,
   "metadata": {},
   "outputs": [
    {
     "name": "stdout",
     "output_type": "stream",
     "text": [
      "writing is not ok\n",
      "reading is not ok\n",
      "existence is not ok\n",
      "executability is not ok\n"
     ]
    }
   ],
   "source": [
    "p = os.path.join(\"C:Hahadirectory\")\n",
    "modes = {\n",
    "    \"writing\":os.W_OK,\n",
    "    \"reading\":os.R_OK,\n",
    "    \"existence\":os.F_OK,\n",
    "    \"executability\":os.X_OK\n",
    "}\n",
    "for mode in modes:\n",
    "    print(mode, \"is\", \"ok\" if os.access(p, mode = modes[mode]) else \"not ok\")"
   ]
  },
  {
   "cell_type": "code",
   "execution_count": 8,
   "metadata": {},
   "outputs": [
    {
     "name": "stdout",
     "output_type": "stream",
     "text": [
      "directory: C:/Windows\n",
      "filename: DPINST.LOG\n"
     ]
    }
   ],
   "source": [
    "def strange_program(path):\n",
    "    if os.access(path, os.F_OK):\n",
    "        directory, filename = os.path.split(path)\n",
    "        print(\"directory:\", directory)\n",
    "        print(\"filename:\", filename)\n",
    "    else:\n",
    "        print(\"path is not exist\")\n",
    "\n",
    "strange_program(\"C:/Windows/DPINST.LOG\")"
   ]
  },
  {
   "cell_type": "code",
   "execution_count": 9,
   "metadata": {},
   "outputs": [
    {
     "name": "stdout",
     "output_type": "stream",
     "text": [
      "31\n"
     ]
    }
   ],
   "source": [
    "path_to_text_file = os.path.join(\"../lab4/json/main.py\")\n",
    "with open(path_to_text_file, 'r') as j:\n",
    "    print(len(j.readlines()))"
   ]
  },
  {
   "cell_type": "code",
   "execution_count": 10,
   "metadata": {},
   "outputs": [],
   "source": [
    "l = [\"Hello\", 11, 11+20j]\n",
    "with open('./file.txt', 'w') as j:\n",
    "    j.write(str(l))"
   ]
  },
  {
   "cell_type": "code",
   "execution_count": 11,
   "metadata": {},
   "outputs": [],
   "source": [
    "for i in range(0, 26):\n",
    "    name = chr(i + ord('A'))\n",
    "    with open(f\"./generated/{name}.txt\", 'w') as j:\n",
    "        j.write(\"\")"
   ]
  },
  {
   "cell_type": "code",
   "execution_count": 12,
   "metadata": {},
   "outputs": [],
   "source": [
    "def copy(path_from, path_to):\n",
    "    with open(path_from, 'r') as j, open(path_to, 'w') as k:\n",
    "        k.write(j.read())\n",
    "\n",
    "copy(\"./lab6.ipynb\", \"./test.txt\")"
   ]
  },
  {
   "cell_type": "code",
   "execution_count": 13,
   "metadata": {},
   "outputs": [],
   "source": [
    "def delete_file(path):\n",
    "    modes = {\n",
    "        \"writing\":os.W_OK,\n",
    "        \"reading\":os.R_OK,\n",
    "        \"existence\":os.F_OK,\n",
    "        \"executability\":os.X_OK\n",
    "    }\n",
    "    if all(os.access(path, mode = modes[mode]) for mode in modes):\n",
    "        os.remove(path)\n",
    "    else:\n",
    "        directory, filename = os.path.split(path)\n",
    "        print(f\"can't delete file '{filename}' by path '{directory}':\")\n",
    "        for mode in modes:\n",
    "            print(mode, \"is\", \"ok\" if os.access(p, mode = modes[mode]) else \"not ok\")\n",
    "\n",
    "delete_file(\"./test.txt\")"
   ]
  }
 ],
 "metadata": {
  "kernelspec": {
   "display_name": "Python 3",
   "language": "python",
   "name": "python3"
  },
  "language_info": {
   "codemirror_mode": {
    "name": "ipython",
    "version": 3
   },
   "file_extension": ".py",
   "mimetype": "text/x-python",
   "name": "python",
   "nbconvert_exporter": "python",
   "pygments_lexer": "ipython3",
   "version": "3.11.5"
  }
 },
 "nbformat": 4,
 "nbformat_minor": 2
}
