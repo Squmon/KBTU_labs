{
 "cells": [
  {
   "cell_type": "code",
   "execution_count": 302,
   "metadata": {},
   "outputs": [],
   "source": [
    "import re\n",
    "\n",
    "txt = \"The best cat in the world! Baba is you BaBa is you a0 a00 abbb abb abbbb ab a0b a00b a0bbb The end! hello_world world_hello theWorld\""
   ]
  },
  {
   "cell_type": "code",
   "execution_count": 303,
   "metadata": {},
   "outputs": [
    {
     "data": {
      "text/plain": [
       "['b', '0', '0', 'bbb', 'bb', 'bbbb', 'b', '0', '0', '0']"
      ]
     },
     "execution_count": 303,
     "metadata": {},
     "output_type": "execute_result"
    }
   ],
   "source": [
    "re.findall(r'a(0|b+)', txt)"
   ]
  },
  {
   "cell_type": "code",
   "execution_count": 304,
   "metadata": {},
   "outputs": [
    {
     "data": {
      "text/plain": [
       "['abbb', 'abb', 'abbb']"
      ]
     },
     "execution_count": 304,
     "metadata": {},
     "output_type": "execute_result"
    }
   ],
   "source": [
    "re.findall(r'ab{2,3}', txt)"
   ]
  },
  {
   "cell_type": "code",
   "execution_count": 305,
   "metadata": {},
   "outputs": [
    {
     "data": {
      "text/plain": [
       "['Th', 'Ba', 'Ba', 'Ba', 'Th', 'Wo']"
      ]
     },
     "execution_count": 305,
     "metadata": {},
     "output_type": "execute_result"
    }
   ],
   "source": [
    "re.findall(r'[A-Z][a-z]', txt)"
   ]
  },
  {
   "cell_type": "code",
   "execution_count": 306,
   "metadata": {},
   "outputs": [
    {
     "data": {
      "text/plain": [
       "['at in the world! Baba is you BaBa is you a0 a00 abbb abb abbbb ab a0b a00b a0bbb']"
      ]
     },
     "execution_count": 306,
     "metadata": {},
     "output_type": "execute_result"
    }
   ],
   "source": [
    "re.findall(r'a.+b', txt)"
   ]
  },
  {
   "cell_type": "code",
   "execution_count": 307,
   "metadata": {},
   "outputs": [
    {
     "data": {
      "text/plain": [
       "'The:best:cat:in:the:world!:Baba:is:you:BaBa:is:you:a0:a00:abbb:abb:abbbb:ab:a0b:a00b:a0bbb:The:end!:hello_world:world_hello:theWorld'"
      ]
     },
     "execution_count": 307,
     "metadata": {},
     "output_type": "execute_result"
    }
   ],
   "source": [
    "re.sub('[ ,.]', ':', txt)"
   ]
  },
  {
   "cell_type": "code",
   "execution_count": 308,
   "metadata": {},
   "outputs": [
    {
     "data": {
      "text/plain": [
       "'The best cat in the world! Baba is you BaBa is you a0 a00 abbb abb abbbb ab a0b a00b a0bbb The end! helloWorld worldHello theWorld'"
      ]
     },
     "execution_count": 308,
     "metadata": {},
     "output_type": "execute_result"
    }
   ],
   "source": [
    "re.sub(r'_([a-zA-Z])', lambda match: match.group(1).upper(), txt)"
   ]
  },
  {
   "cell_type": "code",
   "execution_count": 309,
   "metadata": {},
   "outputs": [
    {
     "data": {
      "text/plain": [
       "['',\n",
       " 'he best cat in the world! ',\n",
       " 'aba is you ',\n",
       " 'a',\n",
       " 'a is you a0 a00 abbb abb abbbb ab a0b a00b a0bbb ',\n",
       " 'he end! hello_world world_hello the',\n",
       " 'orld']"
      ]
     },
     "execution_count": 309,
     "metadata": {},
     "output_type": "execute_result"
    }
   ],
   "source": [
    "re.split(r\"[A-Z]\", txt)"
   ]
  },
  {
   "cell_type": "code",
   "execution_count": 310,
   "metadata": {},
   "outputs": [
    {
     "data": {
      "text/plain": [
       "'The best cat in the world! Baba is you Ba Ba is you a0 a00 abbb abb abbbb ab a0b a00b a0bbb The end! hello_world world_hello the World'"
      ]
     },
     "execution_count": 310,
     "metadata": {},
     "output_type": "execute_result"
    }
   ],
   "source": [
    "re.sub(r'([a-z])([A-Z])', lambda match: match.group(1) + \" \" + match.group(2), txt)"
   ]
  },
  {
   "cell_type": "code",
   "execution_count": 311,
   "metadata": {},
   "outputs": [
    {
     "data": {
      "text/plain": [
       "'The best cat in the world! Baba is you Ba_ba is you a0 a00 abbb abb abbbb ab a0b a00b a0bbb The end! hello_world world_hello the_world'"
      ]
     },
     "execution_count": 311,
     "metadata": {},
     "output_type": "execute_result"
    }
   ],
   "source": [
    "re.sub(r'([a-z])([A-Z])', lambda match: match.group(1) + \"_\" + match.group(2).lower(), txt)"
   ]
  }
 ],
 "metadata": {
  "kernelspec": {
   "display_name": "Python 3",
   "language": "python",
   "name": "python3"
  },
  "language_info": {
   "codemirror_mode": {
    "name": "ipython",
    "version": 3
   },
   "file_extension": ".py",
   "mimetype": "text/x-python",
   "name": "python",
   "nbconvert_exporter": "python",
   "pygments_lexer": "ipython3",
   "version": "3.11.5"
  }
 },
 "nbformat": 4,
 "nbformat_minor": 2
}
